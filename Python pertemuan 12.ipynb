{
  "nbformat": 4,
  "nbformat_minor": 0,
  "metadata": {
    "colab": {
      "name": "Python cos 231.ipynb",
      "provenance": [],
      "collapsed_sections": [],
      "include_colab_link": true
    },
    "kernelspec": {
      "name": "python3",
      "display_name": "Python 3"
    }
  },
  "cells": [
    {
      "cell_type": "markdown",
      "metadata": {
        "id": "view-in-github",
        "colab_type": "text"
      },
      "source": [
        "<a href=\"https://colab.research.google.com/github/deka-byte/Pemrograman-Python/blob/main/Python%20pertemuan%2012.ipynb\" target=\"_parent\"><img src=\"https://colab.research.google.com/assets/colab-badge.svg\" alt=\"Open In Colab\"/></a>"
      ]
    },
    {
      "cell_type": "code",
      "metadata": {
        "colab": {
          "base_uri": "https://localhost:8080/"
        },
        "id": "dY0zU6bk6R9c",
        "outputId": "9c95b846-351a-4c24-af49-7e817174e2fe"
      },
      "source": [
        "import numpy as np\r\n",
        "\r\n",
        "print(\"Deka Putra\\n1101181377\")\r\n",
        "\r\n",
        "def hitung():\r\n",
        "    d = float(input('Masukkan jarak: '))\r\n",
        "    fc = float(input('Masukkan frekuensi: '))\r\n",
        "    tipe = (input('Masukkan area: '))\r\n",
        "    ht = float(input('Masukkan tinggi antena pengirim: '))\r\n",
        "    hr = float(input('Masukkan tinggi antena penerima: '))\r\n",
        "\r\n",
        "    if (fc >= 400000) and (fc <= 1500000):\r\n",
        "        c1 = 69.55\r\n",
        "        c2 = 26.16\r\n",
        "    elif (fc >= 1500000) and (fc <= 2000000):\r\n",
        "        c1 = 46.3\r\n",
        "        c2 =33.9\r\n",
        "\r\n",
        "    if (tipe == 'urban') or (tipe == 'Urban'):\r\n",
        "        cm = 0\r\n",
        "    elif (tipe == 'suburb') or (tipe == 'Suburb'):\r\n",
        "        cm = -2*(np.log10(fc/28))**2 - 5.4\r\n",
        "    elif (tipe == 'open') or (tipe == 'Open'):\r\n",
        "        cm = -4.78*(np.log10(fc))**2 + (18.33*np.log10(fc)) - 40.94\r\n",
        "\r\n",
        "    ahg = ((1.1*np.log10(fc)) - 0.7)*(hr) - ((1.56*np.log10(fc)) - 0.8)\r\n",
        "    lp = c1 +c2*np.log10(fc) - 13.83*np.log10(ht) - (ahg) + (44.9 - 6.55*np.log10(ht))*np.log10(d) + cm\r\n",
        "    \r\n",
        "    print('\\nHasil nya adalah: ', lp, 'dB')\r\n",
        "\r\n",
        "hitung()"
      ],
      "execution_count": 3,
      "outputs": [
        {
          "output_type": "stream",
          "text": [
            "Deka Putra\n",
            "1101181377\n",
            "Masukkan jarak: 1000\n",
            "Masukkan frekuensi: 400000\n",
            "Masukkan area: urban\n",
            "Masukkan tinggi antena pengirim: 100\n",
            "Masukkan tinggi antena penerima: 100\n",
            "\n",
            "Hasil nya adalah:  -254.44749608646475 dB\n"
          ],
          "name": "stdout"
        }
      ]
    }
  ]
}